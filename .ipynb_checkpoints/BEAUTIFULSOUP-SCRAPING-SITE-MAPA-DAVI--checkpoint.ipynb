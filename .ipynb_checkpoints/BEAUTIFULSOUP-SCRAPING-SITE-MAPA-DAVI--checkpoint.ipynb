{
 "cells": [
  {
   "cell_type": "markdown",
   "id": "dc046c08-eb5b-43a7-be7c-072f7182afa9",
   "metadata": {},
   "source": [
    "## **Importações das Bibliotecas**"
   ]
  },
  {
   "cell_type": "code",
   "execution_count": 11,
   "id": "2b9459f4-c353-49db-9169-650734d40d3c",
   "metadata": {},
   "outputs": [],
   "source": [
    "import requests\n",
    "from time import sleep\n",
    "from bs4 import BeautifulSoup\n",
    "from selenium import webdriver"
   ]
  },
  {
   "cell_type": "markdown",
   "id": "af151e69-62f9-4e94-85a1-ef306bd1133d",
   "metadata": {},
   "source": [
    "### **Realizando a Requisição, Armazenando a Resposta e Converte em um Objeto do tipo BeautifulSoup**"
   ]
  },
  {
   "cell_type": "code",
   "execution_count": 19,
   "id": "dfaae920-e997-41ef-b80b-5189b94f6e52",
   "metadata": {},
   "outputs": [],
   "source": [
    "response = requests.get('https://cybermap.kaspersky.com/pt/stats#country=215&type=OAS&period=w')\n",
    "\n",
    "content = response.content\n",
    "\n",
    "site = BeautifulSoup(content, 'html.parser')"
   ]
  },
  {
   "cell_type": "code",
   "execution_count": 10,
   "id": "bb9183af-3ce0-4f0a-b5e3-4b4f87c5c6c1",
   "metadata": {},
   "outputs": [],
   "source": [
    "#print(site.prettify())"
   ]
  },
  {
   "cell_type": "markdown",
   "id": "3c798c5d-47de-44db-b34e-f3f147fd2f76",
   "metadata": {},
   "source": [
    "### **Capturando os Periodos dos Ataques**"
   ]
  },
  {
   "cell_type": "code",
   "execution_count": 18,
   "id": "88d23c5c-4d1a-4c71-b6ae-568b6067ea95",
   "metadata": {},
   "outputs": [],
   "source": [
    "periodo_semanal = site.find('label', attrs={'for':'country_stats_time_period_week'}).text\n",
    "periodo_mensal = site.find('label', attrs={'for':'country_stats_time_period_month'}).text"
   ]
  },
  {
   "cell_type": "markdown",
   "id": "502ce3f6-c73d-4ebb-bbb6-dc20dbc7195a",
   "metadata": {},
   "source": [
    "### **Capturando as Categorias de Ataque do Site**"
   ]
  },
  {
   "cell_type": "code",
   "execution_count": 4,
   "id": "7e9b8134-090c-4c4a-9060-7e832a9ee010",
   "metadata": {},
   "outputs": [
    {
     "name": "stdout",
     "output_type": "stream",
     "text": [
      "[['On-Access Scan', 'Última semana'], ['On Demand Scanner', 'Última semana'], ['Mail Anti-Virus', 'Última semana'], ['Web Anti-Virus', 'Última semana'], ['Intrusion Detection Scan', 'Última semana'], ['Vulnerability Scan', 'Última semana'], ['Kaspersky Anti-Spam', 'Última semana'], ['Botnet Activity Detection', 'Última semana'], ['Ransomware', 'Última semana']]\n"
     ]
    }
   ],
   "source": [
    "categorias = []\n",
    "\n",
    "categorias_ataque = site.findAll('select', attrs={'id':'country_stats_detection_type'})\n",
    "\n",
    "for categoria in categorias_ataque:\n",
    "    categoria1 = categoria.find('option', attrs={'value':'OAS'}).text\n",
    "    categoria2 = categoria.find('option', attrs={'value':'ODS'}).text\n",
    "    categoria3 = categoria.find('option', attrs={'value':'MAV'}).text\n",
    "    categoria4 = categoria.find('option', attrs={'value':'WAV'}).text\n",
    "    categoria5 = categoria.find('option', attrs={'value':'IDS'}).text\n",
    "    categoria6 = categoria.find('option', attrs={'value':'VUL'}).text\n",
    "    categoria7 = categoria.find('option', attrs={'value':'KAS'}).text\n",
    "    categoria8 = categoria.find('option', attrs={'value':'BAD'}).text\n",
    "    categoria9 = categoria.find('option', attrs={'value':'RMW'}).text\n",
    "\n",
    "    #a ideia é realizar a captura dos ataques e colocar na lista de listas para criar o DataFrame\n",
    "    #a ordem ideal é: \"categoria\",\"periodo_semanal\", \"ataques_semanal\", \"periodo_mensal\", \"ataques mensais\"\n",
    "    \n",
    "    categorias.append([categoria1, periodo_semanal])\n",
    "    categorias.append([categoria2, periodo_semanal])\n",
    "    categorias.append([categoria3, periodo_semanal])\n",
    "    categorias.append([categoria4, periodo_semanal])\n",
    "    categorias.append([categoria5, periodo_semanal])\n",
    "    categorias.append([categoria6, periodo_semanal])\n",
    "    categorias.append([categoria7, periodo_semanal])\n",
    "    categorias.append([categoria8, periodo_semanal])\n",
    "    categorias.append([categoria9, periodo_semanal])\n",
    "    \n",
    "print(categorias)\n"
   ]
  },
  {
   "cell_type": "code",
   "execution_count": 7,
   "id": "dd627682-0c52-4dc6-a9a2-b086a60f689c",
   "metadata": {},
   "outputs": [
    {
     "data": {
      "text/plain": [
       "<table cellpadding=\"0\" cellspacing=\"0\" id=\"country_stats_threats_list\"></table>"
      ]
     },
     "execution_count": 7,
     "metadata": {},
     "output_type": "execute_result"
    }
   ],
   "source": [
    "#navegador = webdriver.Chrome()\n",
    "\n",
    "ataques = site.find('table', attrs = {'id':'country_stats_threats_list'})\n",
    "ataques\n",
    "\n",
    "#print(site.prettify())"
   ]
  }
 ],
 "metadata": {
  "kernelspec": {
   "display_name": "Python 3 (ipykernel)",
   "language": "python",
   "name": "python3"
  },
  "language_info": {
   "codemirror_mode": {
    "name": "ipython",
    "version": 3
   },
   "file_extension": ".py",
   "mimetype": "text/x-python",
   "name": "python",
   "nbconvert_exporter": "python",
   "pygments_lexer": "ipython3",
   "version": "3.9.12"
  }
 },
 "nbformat": 4,
 "nbformat_minor": 5
}
