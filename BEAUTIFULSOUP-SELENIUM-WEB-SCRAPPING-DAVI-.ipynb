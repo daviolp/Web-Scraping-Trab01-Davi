{
 "cells": [
  {
   "cell_type": "code",
   "execution_count": 4,
   "id": "2b9459f4-c353-49db-9169-650734d40d3c",
   "metadata": {},
   "outputs": [],
   "source": [
    "import requests\n",
    "from bs4 import BeautifulSoup\n",
    "from selenium import webdriver\n",
    "\n",
    "navegador = webdriver.Chrome()\n",
    "navegador.get('https://cybermap.kaspersky.com/pt')"
   ]
  },
  {
   "cell_type": "code",
   "execution_count": null,
   "id": "40aa09ce-4c6c-404b-877d-c36214a85c06",
   "metadata": {},
   "outputs": [],
   "source": [
    "# import time\n",
    "# from selenium import webdriver\n",
    "# #from selenium.webdriver import Chrome\n",
    "\n",
    "# navegador = webdriver.Chrome()\n",
    "\n",
    "# # driver = webdriver.Chrome(executable_path='/home/olp_rsi/Downloads/chromedriver')  # Optional argument, if not specified will search path.\n",
    "\n",
    "# # driver.get('http://www.google.com/');\n",
    "\n",
    "# # time.sleep(5) # Let the user actually see something!\n",
    "\n",
    "# # search_box = driver.find_element_by_name('q')\n",
    "\n",
    "# # search_box.send_keys('ChromeDriver')\n",
    "\n",
    "# # search_box.submit()\n",
    "    \n",
    "# # time.sleep(5) # Let the user actually see something!\n",
    "\n",
    "# # driver.quit()"
   ]
  },
  {
   "cell_type": "code",
   "execution_count": null,
   "id": "08f64e75-9b2d-48ec-a609-84bbd44c1bd6",
   "metadata": {},
   "outputs": [],
   "source": []
  }
 ],
 "metadata": {
  "kernelspec": {
   "display_name": "Python 3",
   "language": "python",
   "name": "python3"
  },
  "language_info": {
   "codemirror_mode": {
    "name": "ipython",
    "version": 3
   },
   "file_extension": ".py",
   "mimetype": "text/x-python",
   "name": "python",
   "nbconvert_exporter": "python",
   "pygments_lexer": "ipython3",
   "version": "3.8.10"
  }
 },
 "nbformat": 4,
 "nbformat_minor": 5
}
