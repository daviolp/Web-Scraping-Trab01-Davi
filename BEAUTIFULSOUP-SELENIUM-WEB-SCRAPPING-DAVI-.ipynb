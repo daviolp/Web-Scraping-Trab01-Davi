{
 "cells": [
  {
   "cell_type": "code",
   "execution_count": 4,
   "id": "2b9459f4-c353-49db-9169-650734d40d3c",
   "metadata": {},
   "outputs": [],
   "source": [
    "from bs4 import BeautifulSoup\n",
    "\n",
    "navegador = BeautifulSoup()"
   ]
  },
  {
   "cell_type": "code",
   "execution_count": null,
   "id": "08f64e75-9b2d-48ec-a609-84bbd44c1bd6",
   "metadata": {},
   "outputs": [],
   "source": []
  }
 ],
 "metadata": {
  "kernelspec": {
   "display_name": "Python 3",
   "language": "python",
   "name": "python3"
  },
  "language_info": {
   "codemirror_mode": {
    "name": "ipython",
    "version": 3
   },
   "file_extension": ".py",
   "mimetype": "text/x-python",
   "name": "python",
   "nbconvert_exporter": "python",
   "pygments_lexer": "ipython3",
   "version": "3.8.10"
  }
 },
 "nbformat": 4,
 "nbformat_minor": 5
}
