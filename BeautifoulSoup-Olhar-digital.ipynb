{
 "cells": [
  {
   "cell_type": "code",
   "execution_count": 62,
   "id": "7fed3870-8aad-4d05-91ec-adb3f8fd289c",
   "metadata": {},
   "outputs": [],
   "source": [
    "import requests\n",
    "from time import sleep\n",
    "from bs4 import BeautifulSoup\n",
    "from selenium import webdriver\n",
    "import pandas as pd"
   ]
  },
  {
   "cell_type": "code",
   "execution_count": 14,
   "id": "7c930072-32f7-4b58-b7e6-e9d1496ca474",
   "metadata": {},
   "outputs": [],
   "source": [
    "response = requests.get('https://olhardigital.com.br/tag/seguranca-da-informacao/')\n",
    "\n",
    "content = response.content\n",
    "\n",
    "site = BeautifulSoup(content, 'html.parser')"
   ]
  },
  {
   "cell_type": "code",
   "execution_count": 22,
   "id": "450063a4-e0d9-46b3-9c32-a07a39ac4b5f",
   "metadata": {},
   "outputs": [],
   "source": [
    "noticia = site.find('div', attrs={'class':'post-text'})"
   ]
  },
  {
   "cell_type": "code",
   "execution_count": 56,
   "id": "6431c5ad-ec48-4dd3-8230-9ea969d45eee",
   "metadata": {},
   "outputs": [],
   "source": [
    "titulo = noticia.find('div', attrs={'class':'post-title'}).text\n",
    "sub_ti = noticia.find('div', attrs={'class':'post-excerpt'}).text\n",
    "#leia = noticia.find('div', attrs={'img':'https://olhardigital.com.br/wp-content/themes/olhardigital/views/default/assets/images/right-arrow-dark.svg'}).text"
   ]
  },
  {
   "cell_type": "code",
   "execution_count": 57,
   "id": "f8f0fd26-2f66-4e8c-9db0-1fba0d2005b8",
   "metadata": {},
   "outputs": [
    {
     "data": {
      "text/plain": [
       "'Kaspersky entra em lista negra e se defende de acusação nos EUA'"
      ]
     },
     "execution_count": 57,
     "metadata": {},
     "output_type": "execute_result"
    }
   ],
   "source": [
    "titulo"
   ]
  },
  {
   "cell_type": "code",
   "execution_count": 58,
   "id": "ef228f7e-a846-429d-be42-86ecb7c6da96",
   "metadata": {},
   "outputs": [
    {
     "data": {
      "text/plain": [
       "'Representantes da Kaspersky nos Estados Unidos se defenderam de acusações feitas pelo governo...'"
      ]
     },
     "execution_count": 58,
     "metadata": {},
     "output_type": "execute_result"
    }
   ],
   "source": [
    "sub_ti"
   ]
  },
  {
   "cell_type": "code",
   "execution_count": 68,
   "id": "188b9a3e-1774-4ec8-8f95-7fb8dacd54ae",
   "metadata": {},
   "outputs": [
    {
     "data": {
      "text/html": [
       "<div>\n",
       "<style scoped>\n",
       "    .dataframe tbody tr th:only-of-type {\n",
       "        vertical-align: middle;\n",
       "    }\n",
       "\n",
       "    .dataframe tbody tr th {\n",
       "        vertical-align: top;\n",
       "    }\n",
       "\n",
       "    .dataframe thead th {\n",
       "        text-align: right;\n",
       "    }\n",
       "</style>\n",
       "<table border=\"1\" class=\"dataframe\">\n",
       "  <thead>\n",
       "    <tr style=\"text-align: right;\">\n",
       "      <th></th>\n",
       "      <th>Titulo</th>\n",
       "      <th>Sub_titulo</th>\n",
       "    </tr>\n",
       "  </thead>\n",
       "  <tbody>\n",
       "    <tr>\n",
       "      <th>0</th>\n",
       "      <td>Kaspersky entra em lista negra e se defende de...</td>\n",
       "      <td>Representantes da Kaspersky nos Estados Unidos...</td>\n",
       "    </tr>\n",
       "  </tbody>\n",
       "</table>\n",
       "</div>"
      ],
      "text/plain": [
       "                                              Titulo  \\\n",
       "0  Kaspersky entra em lista negra e se defende de...   \n",
       "\n",
       "                                          Sub_titulo  \n",
       "0  Representantes da Kaspersky nos Estados Unidos...  "
      ]
     },
     "execution_count": 68,
     "metadata": {},
     "output_type": "execute_result"
    }
   ],
   "source": [
    "li = []\n",
    "\n",
    "li.append([titulo, sub_ti])\n",
    "\n",
    "li\n",
    "\n",
    "dataset = pd.DataFrame(li, columns = ['Titulo', \"Sub_titulo\"])\n",
    "\n",
    "dataset"
   ]
  }
 ],
 "metadata": {
  "kernelspec": {
   "display_name": "Python 3 (ipykernel)",
   "language": "python",
   "name": "python3"
  },
  "language_info": {
   "codemirror_mode": {
    "name": "ipython",
    "version": 3
   },
   "file_extension": ".py",
   "mimetype": "text/x-python",
   "name": "python",
   "nbconvert_exporter": "python",
   "pygments_lexer": "ipython3",
   "version": "3.9.12"
  }
 },
 "nbformat": 4,
 "nbformat_minor": 5
}
