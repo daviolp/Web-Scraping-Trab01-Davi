{
 "cells": [
  {
   "cell_type": "markdown",
   "id": "f89466cd-032a-42f1-b600-71f4a1e5bb44",
   "metadata": {},
   "source": [
    "## Importações e verificação da versão do Python Kernel"
   ]
  },
  {
   "cell_type": "code",
   "execution_count": 1,
   "id": "edfbe76d-faa6-4dfd-b1c8-6f1863a76cbf",
   "metadata": {},
   "outputs": [
    {
     "data": {
      "text/plain": [
       "'3.9.12'"
      ]
     },
     "execution_count": 1,
     "metadata": {},
     "output_type": "execute_result"
    }
   ],
   "source": [
    "import requests\n",
    "from time import sleep\n",
    "from bs4 import BeautifulSoup\n",
    "import pandas as pd\n",
    "\n",
    "import platform\n",
    "platform.python_version()"
   ]
  },
  {
   "cell_type": "markdown",
   "id": "79660b1d-6de4-4e3d-8210-02ff573b7db1",
   "metadata": {},
   "source": [
    "## Criações das Listas"
   ]
  },
  {
   "cell_type": "code",
   "execution_count": null,
   "id": "2aae9c0d-9f82-4dad-b56e-93b72f943187",
   "metadata": {},
   "outputs": [],
   "source": [
    "#-------------------------------------------------------------------\n",
    "sintomas_malwares = []\n",
    "sintomas_adwares = []\n",
    "#-------------------------------------------------------------------"
   ]
  },
  {
   "cell_type": "markdown",
   "id": "6d85a345-fa4f-4169-9425-daf68208a10f",
   "metadata": {},
   "source": [
    "## Capturando Sintomas de Malwares do Site Malwarebytes"
   ]
  },
  {
   "cell_type": "code",
   "execution_count": 51,
   "id": "63e7c4e7-c262-4e2d-8d7f-519928fcb877",
   "metadata": {},
   "outputs": [],
   "source": [
    "#-------------------------------------------------------------------\n",
    "#limpando a lista de malwares antes de adicionar para garantir que só tenha a quantidade de sintomas corretos, se porventura\n",
    "#for rodado novamente o codígo e ficar com sintomas duplicados \n",
    "sintomas_malwares.clear()\n",
    "\n",
    "\n",
    "#-------------------------------------------------------------------\n",
    "#requisição e criação do objeto do tipo BeautifulSoup\n",
    "response = requests.get('https://www.malwarebytes.com/malware')\n",
    "content = response.text\n",
    "site = BeautifulSoup(content, 'html.parser')\n",
    "\n",
    "#-------------------------------------------------------------------\n",
    "\n",
    "#Tipo do Ataque\n",
    "tipo_ataque_malware = site.find('h1', attrs={'class':'text-center'}).text\n",
    "\n",
    "#-------------------------------------------------------------------\n",
    "\n",
    "#procurei a coluna principal da notícia e coloquei na variável 'coluna_geral' para encontrar as demais informações\n",
    "coluna_geral = site.find('div', attrs={'class':'col-md-12 col-sm-10 col-restyling'})\n",
    "\n",
    "\n",
    "#-------------------------------------------------------------------\n",
    "\n",
    "#Buscando pelos sintomas dentro da principal coluna para capturar os dados para realizar análise se tem algum malware na sua máquina\n",
    "lista_sintomas = coluna_geral.find('ul', attrs={'type':'disc'})\n",
    "\n",
    "#-------------------------------------------------------------------\n",
    "\n",
    "#encontrando os sintomas dentro da coluna geral\n",
    "todos_sintomas_malware = lista_sintomas.findAll('b')\n",
    "\n",
    "#-------------------------------------------------------------------\n",
    "\n",
    "#pegando cada sintoma\n",
    "sintoma_01_malware = todos_sintomas_malware[0].text\n",
    "sintoma_02_malware = todos_sintomas_malware[1].text\n",
    "sintoma_03_malware = todos_sintomas_malware[2].text\n",
    "sintoma_04_malware = todos_sintomas_malware[3].text\n",
    "sintoma_05_malware = todos_sintomas_malware[4].text\n",
    "sintoma_06_malware = todos_sintomas_malware[5].text\n",
    "sintoma_07_malware = todos_sintomas_malware[6].text\n",
    "sintoma_08_malware = todos_sintomas_malware[7].text\n",
    "\n",
    "#-------------------------------------------------------------------\n",
    "\n",
    "#adicionando na lista\n",
    "sintomas_malwares.append([tipo_ataque_malware,sintoma_01_malware, sintoma_02_malware, sintoma_03_malware, sintoma_04_malware,sintoma_05_malware,\n",
    "                         sintoma_06_malware, sintoma_07_malware,sintoma_08_malware])\n",
    "\n",
    "#-------------------------------------------------------------------\n",
    "#Display para mostrar os sintomas selecionados para utilizar na categoria de Malware\n",
    "#sintomas_malwares"
   ]
  },
  {
   "cell_type": "markdown",
   "id": "1044b1f5-f731-4f6f-a9a7-5981fb62c258",
   "metadata": {},
   "source": [
    "## Capturando Sintomas de Adware do Site Malwarebytes - OBSERVAÇÂO: Segue praticamente a mesma estrutura do bloco de códigos Anterior"
   ]
  },
  {
   "cell_type": "code",
   "execution_count": null,
   "id": "dcc3bc1f-28c2-4f2d-9970-71857a244bcf",
   "metadata": {},
   "outputs": [],
   "source": [
    "#As explicações do código estão no bloco sobre Malware\n",
    "sintomas_adwares.clear()\n",
    "\n",
    "#-------------------------------------------------------------------\n",
    "\n",
    "response2 = requests.get('https://www.malwarebytes.com/adware')\n",
    "content2 = response2.text\n",
    "site_adware = BeautifulSoup(content2, 'html.parser')\n",
    "\n",
    "#-------------------------------------------------------------------\n",
    "\n",
    "tipo_ataque_adware = site_adware.find('h1', attrs={'class':'text-center'}).text\n",
    "\n",
    "#-------------------------------------------------------------------\n",
    "\n",
    "lista_sintomas_adware = site_adware.find('ul', attrs={'type':'disc'})\n",
    "\n",
    "#-------------------------------------------------------------------\n",
    "\n",
    "todos_sintomas_adware = lista_sintomas_adware.findAll('li')\n",
    "\n",
    "#-------------------------------------------------------------------\n",
    "\n",
    "sintoma_01_adware = todos_sintomas_adware[0].text\n",
    "sintoma_02_adware = todos_sintomas_adware[1].text\n",
    "sintoma_03_adware = todos_sintomas_adware[2].text\n",
    "sintoma_04_adware = todos_sintomas_adware[3].text\n",
    "sintoma_05_adware = todos_sintomas_adware[4].text\n",
    "sintoma_06_adware = todos_sintomas_adware[5].text\n",
    "sintoma_07_adware = todos_sintomas_adware[6].text\n",
    "sintoma_08_adware = todos_sintomas_adware[7].text\n",
    "\n",
    "#-------------------------------------------------------------------\n",
    "sintomas_adwares.append([tipo_ataque_adware,sintoma_01_adware, sintoma_02_adware, sintoma_03_adware, sintoma_04_adware,sintoma_05_adware,\n",
    "                         sintoma_06_adware, sintoma_07_adware,sintoma_08_adware ])\n",
    "\n",
    "#sintomas_adwares"
   ]
  },
  {
   "cell_type": "markdown",
   "id": "8bbdc35c-a137-4c46-b005-914e29fcfd20",
   "metadata": {},
   "source": [
    "## Criando os DataFrames"
   ]
  },
  {
   "cell_type": "code",
   "execution_count": 48,
   "id": "a12053b8-7449-462c-9235-b95b5101ede1",
   "metadata": {},
   "outputs": [
    {
     "data": {
      "text/html": [
       "<div>\n",
       "<style scoped>\n",
       "    .dataframe tbody tr th:only-of-type {\n",
       "        vertical-align: middle;\n",
       "    }\n",
       "\n",
       "    .dataframe tbody tr th {\n",
       "        vertical-align: top;\n",
       "    }\n",
       "\n",
       "    .dataframe thead th {\n",
       "        text-align: right;\n",
       "    }\n",
       "</style>\n",
       "<table border=\"1\" class=\"dataframe\">\n",
       "  <thead>\n",
       "    <tr style=\"text-align: right;\">\n",
       "      <th></th>\n",
       "      <th>Tipo do Ataque</th>\n",
       "      <th>Indicador 1</th>\n",
       "      <th>Indicador 2</th>\n",
       "      <th>Indicador 3</th>\n",
       "      <th>Indicador 4</th>\n",
       "      <th>Indicador 5</th>\n",
       "      <th>Indicador 6</th>\n",
       "      <th>Indicador 7</th>\n",
       "      <th>Indicador 8</th>\n",
       "    </tr>\n",
       "  </thead>\n",
       "  <tbody>\n",
       "    <tr>\n",
       "      <th>0</th>\n",
       "      <td>Malware</td>\n",
       "      <td>Your computer slows down.</td>\n",
       "      <td>Your screen is inundated with annoying ads.</td>\n",
       "      <td>Your system crashes.</td>\n",
       "      <td>You notice a mysterious loss of disk space.</td>\n",
       "      <td>There’s a weird increase in your system’s Internet activity.</td>\n",
       "      <td>Your browser settings change.</td>\n",
       "      <td>Your antivirus product stops working</td>\n",
       "      <td>You lose access to your files or your entire computer.</td>\n",
       "    </tr>\n",
       "    <tr>\n",
       "      <th>1</th>\n",
       "      <td>Adware</td>\n",
       "      <td>Advertisements appear in places they shouldn’t be.</td>\n",
       "      <td>Your web browser’s homepage has mysteriously changed without your permission.</td>\n",
       "      <td>Web pages that you typically visit are not displaying properly.</td>\n",
       "      <td>Website links redirect to sites different from what you expected.</td>\n",
       "      <td>Your web browser slows to a crawl.</td>\n",
       "      <td>New toolbars, extensions, or plugins suddenly populate your browser.</td>\n",
       "      <td>Your Mac starts automatically installing unwanted software applications.</td>\n",
       "      <td>Your browser crashes.</td>\n",
       "    </tr>\n",
       "  </tbody>\n",
       "</table>\n",
       "</div>"
      ],
      "text/plain": [
       "  Tipo do Ataque                                         Indicador 1  \\\n",
       "0        Malware                           Your computer slows down.   \n",
       "1         Adware  Advertisements appear in places they shouldn’t be.   \n",
       "\n",
       "                                                                     Indicador 2  \\\n",
       "0                                    Your screen is inundated with annoying ads.   \n",
       "1  Your web browser’s homepage has mysteriously changed without your permission.   \n",
       "\n",
       "                                                       Indicador 3  \\\n",
       "0                                            Your system crashes.    \n",
       "1  Web pages that you typically visit are not displaying properly.   \n",
       "\n",
       "                                                         Indicador 4  \\\n",
       "0                        You notice a mysterious loss of disk space.   \n",
       "1  Website links redirect to sites different from what you expected.   \n",
       "\n",
       "                                                    Indicador 5  \\\n",
       "0  There’s a weird increase in your system’s Internet activity.   \n",
       "1                            Your web browser slows to a crawl.   \n",
       "\n",
       "                                                            Indicador 6  \\\n",
       "0                                         Your browser settings change.   \n",
       "1  New toolbars, extensions, or plugins suddenly populate your browser.   \n",
       "\n",
       "                                                                Indicador 7  \\\n",
       "0                                      Your antivirus product stops working   \n",
       "1  Your Mac starts automatically installing unwanted software applications.   \n",
       "\n",
       "                                              Indicador 8  \n",
       "0  You lose access to your files or your entire computer.  \n",
       "1                                   Your browser crashes.  "
      ]
     },
     "execution_count": 48,
     "metadata": {},
     "output_type": "execute_result"
    }
   ],
   "source": [
    "#-------------------------------------------------------------------\n",
    "#redimensionando o Dataframe para uma melhor visualização\n",
    "pd.options.display.max_colwidth = 5000\n",
    "\n",
    "\n",
    "#-------------------------------------------------------------------\n",
    "data1 = pd.DataFrame(sintomas_malwares)\n",
    "data2 = pd.DataFrame(sintomas_adwares)\n",
    "\n",
    "#-------------------------------------------------------------------\n",
    "data_geral = pd.concat((data1,data2), ignore_index=True)\n",
    "data_geral.columns = ['Tipo do Ataque','Indicador 1', 'Indicador 2', 'Indicador 3', 'Indicador 4', 'Indicador 5', 'Indicador 6', 'Indicador 7', 'Indicador 8']\n",
    "data_geral"
   ]
  },
  {
   "cell_type": "markdown",
   "id": "ea8fa463-a77d-4431-9403-9cef2ed49456",
   "metadata": {},
   "source": [
    "## Rascunhos de Códigos"
   ]
  },
  {
   "cell_type": "code",
   "execution_count": 6,
   "id": "91034a50-0c57-4049-a790-cbd7ba26a720",
   "metadata": {},
   "outputs": [],
   "source": [
    "# sintomas_malwares.append([sintoma_02])\n",
    "# sintomas_malwares.append([sintoma_03])\n",
    "# sintomas_malwares.append([sintoma_04])\n",
    "# sintomas_malwares.append([sintoma_05])\n",
    "# sintomas_malwares.append([sintoma_06])\n",
    "# sintomas_malwares.append([sintoma_07])\n",
    "# sintomas_malwares.append([sintoma_08])\n",
    "\n",
    "# data = pd.DataFrame({\"Indicador 01\": Dataset[0],\"Indicador 02\": Dataset[1]})\n",
    "# data"
   ]
  }
 ],
 "metadata": {
  "kernelspec": {
   "display_name": "Python 3 (ipykernel)",
   "language": "python",
   "name": "python3"
  },
  "language_info": {
   "codemirror_mode": {
    "name": "ipython",
    "version": 3
   },
   "file_extension": ".py",
   "mimetype": "text/x-python",
   "name": "python",
   "nbconvert_exporter": "python",
   "pygments_lexer": "ipython3",
   "version": "3.9.12"
  }
 },
 "nbformat": 4,
 "nbformat_minor": 5
}
